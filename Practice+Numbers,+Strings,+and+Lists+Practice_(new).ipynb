{
  "cells": [
    {
      "cell_type": "markdown",
      "metadata": {
        "id": "bh1GCjOAOBpg"
      },
      "source": [
        "#  Numbers"
      ]
    },
    {
      "cell_type": "markdown",
      "metadata": {
        "id": "b05EoVgBOBpk"
      },
      "source": [
        "Compute the number of bytes in one Gigabyte (1kb = 1024 bytes, 1mb = 1024 kb, 1gb = 1024 mb)"
      ]
    },
    {
      "cell_type": "code",
      "execution_count": 2,
      "metadata": {
        "colab": {
          "base_uri": "https://localhost:8080/"
        },
        "id": "SkCmG22QOBpl",
        "outputId": "c97dfeb0-5129-4b2c-d69b-f02dcecec044"
      },
      "outputs": [
        {
          "output_type": "execute_result",
          "data": {
            "text/plain": [
              "1073741824"
            ]
          },
          "metadata": {},
          "execution_count": 2
        }
      ],
      "source": [
        "bytes=1024*1024*1024\n",
        "bytes\n"
      ]
    },
    {
      "cell_type": "markdown",
      "metadata": {
        "id": "EZfuWcoZOBpp"
      },
      "source": [
        "You bought 500 shares of stock A at $\\$$600 on day 0 and you sold it at  $\\$$1000 on day 700.\n",
        "The daily discount rate is 0.0001%. How much profit did you make in terms of net present value.\n"
      ]
    },
    {
      "cell_type": "code",
      "execution_count": 12,
      "metadata": {
        "colab": {
          "base_uri": "https://localhost:8080/"
        },
        "id": "otJYrgodOBpq",
        "outputId": "9adc041d-d7df-4200-a7b0-f47e7fecf8c3"
      },
      "outputs": [
        {
          "output_type": "execute_result",
          "data": {
            "text/plain": [
              "199650.12264632783"
            ]
          },
          "metadata": {},
          "execution_count": 12
        }
      ],
      "source": [
        "shares = 500\n",
        "buyprice =600\n",
        "sellprice=1000\n",
        "days=700\n",
        "discount_rate=0.0001/100\n",
        "buycost=buyprice*shares\n",
        "sell_value=shares*sellprice\n",
        "pv_sell_value=sell_value/((1+discount_rate)**days)\n",
        "profit=pv_sell_value-buycost\n",
        "profit"
      ]
    },
    {
      "cell_type": "markdown",
      "metadata": {
        "id": "2mbsYSCJOBps"
      },
      "source": [
        "For any value of x, create a variable called even_check that is True if x is even and False if x is odd."
      ]
    },
    {
      "cell_type": "code",
      "execution_count": 13,
      "metadata": {
        "run_control": {
          "marked": true
        },
        "colab": {
          "base_uri": "https://localhost:8080/"
        },
        "id": "G_34H1VuOBps",
        "outputId": "7e5f2bd5-b677-41a9-a2e6-9bf98f476bd6"
      },
      "outputs": [
        {
          "output_type": "execute_result",
          "data": {
            "text/plain": [
              "False"
            ]
          },
          "metadata": {},
          "execution_count": 13
        }
      ],
      "source": [
        "x=99\n",
        "even_check=(x % 2==0)\n",
        "even_check\n",
        "\n"
      ]
    },
    {
      "cell_type": "markdown",
      "metadata": {
        "id": "RshDnE3ROBpt"
      },
      "source": [
        "You have num_shirts t-shirts, num_shorts pairs of shorts and num_shoes pairs of shoes.  Create a variable called num_outfits that stores the total number of different outfits you can make."
      ]
    },
    {
      "cell_type": "code",
      "execution_count": 17,
      "metadata": {
        "colab": {
          "base_uri": "https://localhost:8080/"
        },
        "id": "10onJkEvOBpu",
        "outputId": "4a29ce14-c730-42e3-e99f-419a3221d6a1"
      },
      "outputs": [
        {
          "output_type": "execute_result",
          "data": {
            "text/plain": [
              "280"
            ]
          },
          "metadata": {},
          "execution_count": 17
        }
      ],
      "source": [
        "num_shirts=5\n",
        "num_shorts=7\n",
        "num_shoes=8\n",
        "num_outfit=num_shirts*num_shorts*num_shoes\n",
        "num_outfit\n"
      ]
    },
    {
      "cell_type": "markdown",
      "metadata": {
        "id": "CD27oBNBOBpv"
      },
      "source": [
        "# String Practice\n",
        "\n",
        "Create variable called \"name\" that stores your full name. Find whether your name has an even or odd number of letters."
      ]
    },
    {
      "cell_type": "code",
      "execution_count": null,
      "metadata": {
        "id": "D_J1doo0OBpv",
        "outputId": "1d353aa4-a8f3-472d-b01e-7144f9edd0a3"
      },
      "outputs": [
        {
          "data": {
            "text/plain": [
              "15"
            ]
          },
          "execution_count": 12,
          "metadata": {},
          "output_type": "execute_result"
        }
      ],
      "source": [
        "A=\"chalatip\"\n",
        "B=\"Sanmart\"\n",
        "C=A+B\n",
        "len(C)"
      ]
    },
    {
      "cell_type": "markdown",
      "metadata": {
        "id": "9c_H3ZiMOBpw"
      },
      "source": [
        "Correct the following variable so it is equal to \"spammy\""
      ]
    },
    {
      "cell_type": "code",
      "execution_count": null,
      "metadata": {
        "id": "fn9IHGqCOBpx",
        "outputId": "9e502722-0ca3-45fd-c0da-6cb2912bfa44"
      },
      "outputs": [
        {
          "data": {
            "text/plain": [
              "'spammy'"
            ]
          },
          "execution_count": 13,
          "metadata": {},
          "output_type": "execute_result"
        }
      ],
      "source": [
        "\n",
        "s = \"spaxxy\"\n",
        "s = s[0:3]+\"mm\"+s[-1]\n",
        "s"
      ]
    },
    {
      "cell_type": "markdown",
      "metadata": {
        "id": "w3ABAvfWOBpy"
      },
      "source": [
        "Figure out a way to slice and combine the strings s1, s2, and s3 so that the variable consec_ints = \"123456789\"."
      ]
    },
    {
      "cell_type": "code",
      "execution_count": null,
      "metadata": {
        "id": "yko1yTC-OBpy",
        "outputId": "3e9a159d-7e10-4ef8-97a8-8db0d9e9189d"
      },
      "outputs": [
        {
          "data": {
            "text/plain": [
              "'123456789'"
            ]
          },
          "execution_count": 17,
          "metadata": {},
          "output_type": "execute_result"
        }
      ],
      "source": [
        "s1 = \"12345\"\n",
        "s2 = \"34567\"\n",
        "s3 = \"789\"\n",
        "A= s1[0:5]\n",
        "B= s2[3:5]\n",
        "C= s3[1:3]\n",
        "A+B+C\n",
        "\n",
        "\n"
      ]
    },
    {
      "cell_type": "markdown",
      "metadata": {
        "id": "3NPLxd3pOBpz"
      },
      "source": [
        "#  List Practice\n",
        "\n"
      ]
    },
    {
      "cell_type": "markdown",
      "metadata": {
        "id": "DbAnxIr6OBp0"
      },
      "source": [
        "Add the first and last elements of the list L. Store the result in a variable called sum_first_last. Your code should work if I change L."
      ]
    },
    {
      "cell_type": "code",
      "execution_count": null,
      "metadata": {
        "id": "Ny9vNXzdOBp0",
        "outputId": "b19c4291-b048-41fd-8bdb-545e87aff557"
      },
      "outputs": [
        {
          "data": {
            "text/plain": [
              "72"
            ]
          },
          "execution_count": 22,
          "metadata": {},
          "output_type": "execute_result"
        }
      ],
      "source": [
        "L = [5,1,43,2,4,56,7,90, 67]\n",
        "L=L[0]+L[-1]\n",
        "L\n",
        "\n"
      ]
    },
    {
      "cell_type": "markdown",
      "metadata": {
        "id": "GyuQ014aOBp1"
      },
      "source": [
        "Slice and combine the elements of the list L in a way to print out \"spam\"."
      ]
    },
    {
      "cell_type": "code",
      "execution_count": null,
      "metadata": {
        "id": "zDG1d1nHOBp1",
        "outputId": "ae5b1784-7368-4e69-a9fa-4b74aa708a09"
      },
      "outputs": [
        {
          "data": {
            "text/plain": [
              "'spam'"
            ]
          },
          "execution_count": 25,
          "metadata": {},
          "output_type": "execute_result"
        }
      ],
      "source": [
        "L = [1,\"s\", 2, 3, \"p\", \"a\", 34,1,\"m\"]\n",
        "\n",
        "\n",
        "L=L[1]+L[4]+L[5]+L[8]\n",
        "L\n"
      ]
    },
    {
      "cell_type": "markdown",
      "metadata": {
        "id": "kkHWTORcOBp2"
      },
      "source": [
        "Create a variable called num_L which store the number represented by the list of strings in L.  For the example num_L should be 145. You may assume 3 digit numbers."
      ]
    },
    {
      "cell_type": "code",
      "execution_count": null,
      "metadata": {
        "id": "wqgjiziQOBp3",
        "outputId": "08c9e06e-f816-4eb1-f816-4614529fe967"
      },
      "outputs": [
        {
          "data": {
            "text/plain": [
              "'145'"
            ]
          },
          "execution_count": 26,
          "metadata": {},
          "output_type": "execute_result"
        }
      ],
      "source": [
        "L = [\"1\",\"4\",\"5\" ]\n",
        "\n",
        "L=L[0]+L[1]+L[2]\n",
        "L\n"
      ]
    },
    {
      "cell_type": "markdown",
      "metadata": {
        "id": "A5r1jfOeOBp3"
      },
      "source": [
        "Create a list L of numbers of odd length.  Complete the following tasks:\n",
        "\n",
        " - Find the median element\n",
        " - Slice out all element indexed lower than the median element"
      ]
    },
    {
      "cell_type": "code",
      "execution_count": null,
      "metadata": {
        "id": "NJKPFSNYOBp4",
        "outputId": "9eae3aba-b84c-45b3-8f95-64882368d2e4"
      },
      "outputs": [
        {
          "name": "stdout",
          "output_type": "stream",
          "text": [
            "[2, 3, 4]\n"
          ]
        }
      ],
      "source": [
        "L= [4,5,3,2,6,6,9]\n",
        "A=sorted(L)\n",
        "G=int(len(L)/2)\n",
        "print(A[0:G])\n"
      ]
    }
  ],
  "metadata": {
    "kernelspec": {
      "display_name": "Python 3",
      "language": "python",
      "name": "python3"
    },
    "language_info": {
      "codemirror_mode": {
        "name": "ipython",
        "version": 3
      },
      "file_extension": ".py",
      "mimetype": "text/x-python",
      "name": "python",
      "nbconvert_exporter": "python",
      "pygments_lexer": "ipython3",
      "version": "3.12.6"
    },
    "toc": {
      "colors": {
        "hover_highlight": "#DAA520",
        "navigate_num": "#000000",
        "navigate_text": "#333333",
        "running_highlight": "#FF0000",
        "selected_highlight": "#FFD700",
        "sidebar_border": "#EEEEEE",
        "wrapper_background": "#FFFFFF"
      },
      "moveMenuLeft": true,
      "nav_menu": {
        "height": "12px",
        "width": "252px"
      },
      "navigate_menu": true,
      "number_sections": true,
      "sideBar": true,
      "skip_h1_title": false,
      "threshold": 4,
      "toc_cell": false,
      "toc_position": {},
      "toc_section_display": "block",
      "toc_window_display": false,
      "widenNotebook": false
    },
    "colab": {
      "provenance": []
    }
  },
  "nbformat": 4,
  "nbformat_minor": 0
}